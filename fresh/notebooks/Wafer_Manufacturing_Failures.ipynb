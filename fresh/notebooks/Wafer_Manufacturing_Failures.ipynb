{
 "cells": [
  {
   "cell_type": "markdown",
   "metadata": {},
   "source": [
    "# Abnormal wafer detection in semi-conductor production"
   ]
  },
  {
   "cell_type": "markdown",
   "metadata": {},
   "source": [
    "The purpose of this notebook is to show the use of the FRESH library in a setting which is unlikely to be influenced by the behaviour of a large number of outside human influences as is the case in the bike rental and stock market examples.\n",
    "\n",
    "In the case presented here the goal is to detect given a time series of features for each wafer if the wafer is likely to be abnormal/normal and thus if it should be removed from the manufacturing pipeline such that it does not need to be removed at a later date following integration into a system.\n",
    "\n",
    "The data used here has been loaded and processed post download into its current form from https://www.cs.cmu.edu/~bobski/data/data.html . This is open source data used here as an indication of the use of this algorithm in a manufacturing setting"
   ]
  },
  {
   "cell_type": "markdown",
   "metadata": {},
   "source": [
    "## Load libraries and data"
   ]
  },
  {
   "cell_type": "markdown",
   "metadata": {},
   "source": [
    "The following cell will load in all the functions required for the running of this notebook. This includes all both the utility functions which are used in data processing/statistical testing of the results and the FRESH algorithm which allows for the completion of the feature extraction and significance testing."
   ]
  },
  {
   "cell_type": "code",
   "execution_count": 1,
   "metadata": {
    "scrolled": true
   },
   "outputs": [],
   "source": [
    "\\l ../../ml.q\n",
    ".ml.loadfile`:init.q\n",
    "\\l graphics.q"
   ]
  },
  {
   "cell_type": "code",
   "execution_count": 2,
   "metadata": {},
   "outputs": [],
   "source": [
    "data: (\"SIIIIIII\"; enlist \",\") 0:`:SampleDatasets/waferdata.csv\n",
    "targets:(\"SI\";enlist \",\") 0:`:SampleDatasets/wafertargets.csv"
   ]
  },
  {
   "cell_type": "markdown",
   "metadata": {},
   "source": [
    "Given that this data does not contain null values and is spaced with equi-time there is no requirement for the time column to be present within the data and as such this can be removed from the data"
   ]
  },
  {
   "cell_type": "code",
   "execution_count": 3,
   "metadata": {},
   "outputs": [
    {
     "name": "stdout",
     "output_type": "stream",
     "text": [
      "id      time feat11 feat12 feat15 feat6 feat7 feat8\n",
      "---------------------------------------------------\n",
      "1549_01 0    2      -11    -1     3     24    10   \n",
      "1549_01 1    2      -11    -1     3     25    10   \n",
      "1549_01 2    2      -11    0      3     24    10   \n",
      "1549_01 3    2      -11    -1     3     25    10   \n",
      "1549_01 4    2      -11    0      3     25    477  \n",
      "1549_01 5    2      -11    0      3     24    499  \n",
      "1549_01 6    2      -11    0      3     25    1542 \n",
      "1549_01 7    2      -11    0      3     24    1869 \n",
      "1549_01 8    2      -11    0      3     24    2234 \n",
      "1549_01 9    2      -11    0      3     25    2259 \n"
     ]
    },
    {
     "data": {
      "text/plain": [
       "id      feat11 feat12 feat15 feat6 feat7 feat8\n",
       "----------------------------------------------\n",
       "1549_01 2      -11    -1     3     24    10   \n",
       "1549_01 2      -11    -1     3     25    10   \n",
       "1549_01 2      -11    0      3     24    10   \n",
       "1549_01 2      -11    -1     3     25    10   \n",
       "1549_01 2      -11    0      3     25    477  \n",
       "1549_01 2      -11    0      3     24    499  \n",
       "1549_01 2      -11    0      3     25    1542 \n",
       "1549_01 2      -11    0      3     24    1869 \n",
       "1549_01 2      -11    0      3     24    2234 \n",
       "1549_01 2      -11    0      3     25    2259 \n"
      ]
     },
     "execution_count": 3,
     "metadata": {},
     "output_type": "execute_result"
    }
   ],
   "source": [
    "show 10#data\n",
    "10#data:delete time from data"
   ]
  },
  {
   "cell_type": "markdown",
   "metadata": {},
   "source": [
    "The following shows the distribution of the targets within the initial dataset, which gives an indiction of the skew of the dataset. As can be seen appoximately 11% of the initial data contained wafers considered to be abnormal. A determination which would likely have been picked up later in the manufacturing pipeline and thus potentially being costly to the manufacturer."
   ]
  },
  {
   "cell_type": "code",
   "execution_count": 4,
   "metadata": {},
   "outputs": [
    {
     "data": {
      "text/plain": [
       "target| num  pcnt    \n",
       "------| -------------\n",
       "0     | 127  10.63652\n",
       "1     | 1067 89.36348\n"
      ]
     },
     "execution_count": 4,
     "metadata": {},
     "output_type": "execute_result"
    }
   ],
   "source": [
    "target:targets`target\n",
    "update pcnt:100*num%sum num from select num:count i by target from ([]target:target)"
   ]
  },
  {
   "cell_type": "markdown",
   "metadata": {},
   "source": [
    "## Feature Extraction and selection"
   ]
  },
  {
   "cell_type": "code",
   "execution_count": 5,
   "metadata": {},
   "outputs": [
    {
     "data": {
      "text/plain": [
       "absenergy     | {x wsum x}\n",
       "abssumchange  | {sum abs 1_deltas x}\n",
       "count         | {count x}\n",
       "countabovemean| {sum x>avg x}\n",
       "countbelowmean| {sum x<avg x}\n"
      ]
     },
     "execution_count": 5,
     "metadata": {},
     "output_type": "execute_result"
    }
   ],
   "source": [
    "/ In this example we are only concerned with producing features which require as input the time series data \n",
    "5#singleinput:.ml.fresh.getsingleinputfeatures[]"
   ]
  },
  {
   "cell_type": "code",
   "execution_count": 6,
   "metadata": {},
   "outputs": [
    {
     "data": {
      "text/plain": [
       "id     | absenergy_feat11 absenergy_feat12 absenergy_feat15 absenergy_feat6 a..\n",
       "-------| --------------------------------------------------------------------..\n",
       "1549_01| 1.666914e+08     8.405464e+07     971495           3.025968e+07    1..\n",
       "1549_02| 1.680301e+08     8.206528e+07     937086           3.081874e+07    1..\n",
       "1549_04| 1.548667e+08     7.124947e+07     580387           3.04597e+07     9..\n",
       "1549_06| 1.609981e+08     8.847354e+07     981203           3.041265e+07    1..\n",
       "1549_07| 1.671974e+08     7.242925e+07     828451           3.082033e+07    1..\n"
      ]
     },
     "execution_count": 6,
     "metadata": {},
     "output_type": "execute_result"
    }
   ],
   "source": [
    "/ Produce features based on the unique id's of the data set without using the id column as for feature extraction\n",
    "5#createdfeatures:.ml.fresh.createfeatures[data;`id;1_cols data;singleinput]"
   ]
  },
  {
   "cell_type": "code",
   "execution_count": 7,
   "metadata": {},
   "outputs": [
    {
     "data": {
      "text/plain": [
       "id     | skewness_feat6 skewness_feat7 skewness_feat8 sumrecurringdatapoint_f..\n",
       "-------| --------------------------------------------------------------------..\n",
       "1549_01| -0.954363      2.274543       -0.3505336     111602                 ..\n",
       "1549_02| -0.8299916     0.7990425      -0.3697229     115077                 ..\n",
       "1549_04| -0.7708384     0.8678454      -0.3555149     107276                 ..\n",
       "1549_06| -0.7482212     0.6913075      -0.3760046     115185                 ..\n",
       "1549_07| -0.830206      0.814318       -0.3707089     116928                 ..\n"
      ]
     },
     "execution_count": 7,
     "metadata": {},
     "output_type": "execute_result"
    }
   ],
   "source": [
    "/ Complete feature significance tests on the dataset to only use features deemed to be important to target prediction\n",
    "5#sigfeattab:key[createdfeatures]!(.ml.fresh.significantfeatures[t;targets[`target]])#t:value createdfeatures"
   ]
  },
  {
   "cell_type": "markdown",
   "metadata": {},
   "source": [
    "The following shows that the number of features deemed to be important to the prediction of abnormalities in the manufacturing of the semiconductor wafers is less than the total number of features produced through the `.ml.fresh.createfeatures` procedure. The reduced number of features feature extraction should include those that maximize variance in predicting the target but will improve training and testing times"
   ]
  },
  {
   "cell_type": "code",
   "execution_count": 8,
   "metadata": {},
   "outputs": [
    {
     "name": "stdout",
     "output_type": "stream",
     "text": [
      "The number of extracted features from the dataset is: 217\n",
      "The number of features deemed significant to prediction is: 58\n"
     ]
    }
   ],
   "source": [
    "-1\"The number of extracted features from the dataset is: \",string count cols createdfeatures;\n",
    "-1\"The number of features deemed significant to prediction is: \",string count cols sigfeattab;"
   ]
  },
  {
   "cell_type": "markdown",
   "metadata": {},
   "source": [
    "### Preparing the data for Machine Learning"
   ]
  },
  {
   "cell_type": "code",
   "execution_count": 9,
   "metadata": {},
   "outputs": [],
   "source": [
    "mattab:{flip value flip x}\n",
    "/ Convert the table containing significant features to a matrix in order to allow it to be passed to a machine learning algorithm\n",
    "featmat:mattab[value sigfeattab]\n",
    "\n",
    "/ Set a benchmark to be compared against, in this case we use the average value for each feature on each id\n",
    "benchmark:select avg feat11,avg feat12,avg feat15,avg feat6,avg feat7,avg feat8 by id from data\n",
    "benchmarktest:mattab[value benchmark]"
   ]
  },
  {
   "cell_type": "markdown",
   "metadata": {},
   "source": [
    "## Initiate machine learning algorithm"
   ]
  },
  {
   "cell_type": "code",
   "execution_count": 10,
   "metadata": {},
   "outputs": [],
   "source": [
    "k:rand 1000\n",
    "clf:.p.import[`sklearn.ensemble][`:RandomForestClassifier][`n_estimators pykw 500;`random_state pykw k;`verbose pykw 1]\n",
    "classreport:.p.import[`sklearn.metrics]`:classification_report"
   ]
  },
  {
   "cell_type": "markdown",
   "metadata": {},
   "source": [
    "## Train the model"
   ]
  },
  {
   "cell_type": "markdown",
   "metadata": {},
   "source": [
    "Here we train the machine learning model for the same split of the data and the same random forest classifier to test that the application of the feature extraction and feature significance tests have been informative to the prediction of the final state of the wafer post production. These can also be compared to the naive case where the assumption is that all wafers being produced are deemed to be normal."
   ]
  },
  {
   "cell_type": "code",
   "execution_count": 11,
   "metadata": {},
   "outputs": [
    {
     "name": "stderr",
     "output_type": "stream",
     "text": [
      "[Parallel(n_jobs=1)]: Using backend SequentialBackend with 1 concurrent workers.\n",
      "[Parallel(n_jobs=1)]: Done 500 out of 500 | elapsed:    0.8s finished\n",
      "[Parallel(n_jobs=1)]: Using backend SequentialBackend with 1 concurrent workers.\n",
      "[Parallel(n_jobs=1)]: Done 500 out of 500 | elapsed:    0.0s finished\n"
     ]
    },
    {
     "name": "stdout",
     "output_type": "stream",
     "text": [
      "              precision    recall  f1-score   support\n",
      "\n",
      "           0       1.00      0.92      0.96        25\n",
      "           1       0.99      1.00      1.00       214\n",
      "\n",
      "   micro avg       0.99      0.99      0.99       239\n",
      "   macro avg       1.00      0.96      0.98       239\n",
      "weighted avg       0.99      0.99      0.99       239\n",
      "\n",
      "The number of misclassifications in the filtered dataset is: 2\n",
      "The accuracy of the filtered dataset is: 0.9916318\n",
      "_______________________________________________________________\n"
     ]
    },
    {
     "name": "stderr",
     "output_type": "stream",
     "text": [
      "[Parallel(n_jobs=1)]: Using backend SequentialBackend with 1 concurrent workers.\n",
      "[Parallel(n_jobs=1)]: Done 500 out of 500 | elapsed:    0.3s finished\n",
      "[Parallel(n_jobs=1)]: Using backend SequentialBackend with 1 concurrent workers.\n",
      "[Parallel(n_jobs=1)]: Done 500 out of 500 | elapsed:    0.0s finished\n"
     ]
    },
    {
     "name": "stdout",
     "output_type": "stream",
     "text": [
      "              precision    recall  f1-score   support\n",
      "\n",
      "           0       0.96      0.88      0.92        25\n",
      "           1       0.99      1.00      0.99       214\n",
      "\n",
      "   micro avg       0.98      0.98      0.98       239\n",
      "   macro avg       0.97      0.94      0.95       239\n",
      "weighted avg       0.98      0.98      0.98       239\n",
      "\n",
      "The number of misclassifications in the benchmark dataset is: 4\n",
      "The accuracy of the benchmark dataset is: 0.9832636\n",
      "_______________________________________________________________\n"
     ]
    }
   ],
   "source": [
    "seed:\"i\"$.z.t\n",
    "dict1:.ml.util.traintestsplitseed[featmat;targets[`target];0.2;seed];\n",
    "\n",
    "clf[`:fit][dict1[`xtrain];dict1[`ytrain]]`;\n",
    "pred1:clf[`:predict][dict1[`xtest]]`\n",
    "\n",
    "print classreport[dict1[`ytest];pred1]`\n",
    "-1\"The number of misclassifications in the filtered dataset is: \",string sum dict1[`ytest]<>pred1;\n",
    "-1\"The accuracy of the filtered dataset is: \",string .ml.accuracy[dict1[`ytest];pred1];\n",
    "-1\"_______________________________________________________________\";\n",
    "\n",
    "dict2:.ml.util.traintestsplitseed[benchmarktest;targets[`target];0.2;seed];\n",
    "\n",
    "clf[`:fit][dict2[`xtrain];dict2[`ytrain]]`;\n",
    "pred2:clf[`:predict][dict2[`xtest]]`\n",
    "\n",
    "print classreport[dict2[`ytest];pred2]`\n",
    "-1\"The number of misclassifications in the benchmark dataset is: \",string sum dict2[`ytest]<>pred2;\n",
    "-1\"The accuracy of the benchmark dataset is: \",string .ml.accuracy[dict2[`ytest];pred2];\n",
    "-1\"_______________________________________________________________\";\n"
   ]
  },
  {
   "cell_type": "code",
   "execution_count": 12,
   "metadata": {},
   "outputs": [
    {
     "name": "stdout",
     "output_type": "stream",
     "text": [
      "0| 23 0  \n",
      "1| 2  214\n"
     ]
    },
    {
     "data": {
      "image/png": "[encoded data removed]",
      "text/plain": [
       "<Figure size 720x720 with 1 Axes>"
      ]
     },
     "metadata": {},
     "output_type": "display_data"
    }
   ],
   "source": [
    "show cnfM:.ml.cfm[dict1[`ytest];pred1]\n",
    ".ml.displayCM[value cnfM;`Abnormal`Normal;\"Test Set Confusion Matrix\";()]"
   ]
  },
  {
   "cell_type": "markdown",
   "metadata": {},
   "source": [
    "### Conclusions"
   ]
  },
  {
   "cell_type": "markdown",
   "metadata": {},
   "source": [
    "In conclusion it can be seen from multiple runs of the random forest classifiers for different seedings and different splits of the dataset that the use of the feature extraction and significance procedures implemented in this library have improved the ability to predict the normality or otherwise of the wafers produced during the manufacturing process.\n",
    "\n",
    "The accuracy in the case of using the FRESH library produces consistently more accurate results than the benchmark set as the average value being used for the prediction and significantly better results than the naive case where we would assume that all wafers produced are fit for use further down pipeline.\n",
    "\n",
    "This gives an insight into the potential for the use of this form of analysis in the manufacturing sector particularly given the large volumes of data consistently recorded in modern manufacturing processes.\n",
    "\n",
    "It also offers the potential for reductions in redundant labour and manufacturing procedures thus reducing the overall cost of the manufacturing pipeline"
   ]
  },
  {
   "cell_type": "markdown",
   "metadata": {},
   "source": [
    "---"
   ]
  }
 ],
 "metadata": {
  "kernelspec": {
   "display_name": "Q (kdb+)",
   "language": "q",
   "name": "qpk"
  },
  "language_info": {
   "file_extension": ".q",
   "mimetype": "text/x-q",
   "name": "q",
   "version": "3.6.0"
  }
 },
 "nbformat": 4,
 "nbformat_minor": 2
}
