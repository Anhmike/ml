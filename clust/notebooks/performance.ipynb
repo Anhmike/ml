{
 "cells": [
  {
   "cell_type": "markdown",
   "metadata": {},
   "source": [
    "### Performance tests\n",
    "In this notebook we test the performance of the CURE, DBSCAN, hierarchical and k-means clustering models. Each will be test using 1000, 10,000 and 100,000 data points."
   ]
  },
  {
   "cell_type": "code",
   "execution_count": 1,
   "metadata": {},
   "outputs": [],
   "source": [
    "\\c 20 100\n",
    "\\l ml/ml.q\n",
    ".ml.loadfile`:clust/init.q\n",
    "plt:.p.import`matplotlib.pyplot"
   ]
  },
  {
   "cell_type": "code",
   "execution_count": 2,
   "metadata": {},
   "outputs": [
    {
     "data": {
      "image/png": "[encoded data removed]",
      "text/plain": [
       "<Figure size 460.8x345.6 with 1 Axes>"
      ]
     },
     "metadata": {},
     "output_type": "display_data"
    }
   ],
   "source": [
    "dsc:{[n;r;s](r+n?s-r)*/:(cos;sin)@\\:4*n?acos 0}\n",
    "d :flip(-5 1)+(1 1.5)*dsc[10000;0;1.8],'dsc[20000;3.1;4.2],'dsc[40000;5.2;6.5]\n",
    "d,:flip(4 -1)+(1 8)*dsc[40000;0;1.]\n",
    "plt[`:scatter][;]. flip d;\n",
    "plt[`:show][];"
   ]
  },
  {
   "cell_type": "code",
   "execution_count": 3,
   "metadata": {},
   "outputs": [],
   "source": [
    "/take samples of d with 100, 1000 and 10,000 data points\n",
    "sample:{x neg[y&count x]?count x}\n",
    "d1h: sample[d;100]\n",
    "d1k: sample[d;1000]\n",
    "d10k:sample[d;10000]"
   ]
  },
  {
   "cell_type": "code",
   "execution_count": 4,
   "metadata": {},
   "outputs": [
    {
     "name": "stdout",
     "output_type": "stream",
     "text": [
      "cure  | `.ml.clust.cure   (4;`e2dist;30;0;01b;0b)                            1 4\n",
      "dbscan| `.ml.clust.dbscan (`e2dist;2;1.2)                                    ,0 \n",
      "hc    | `.ml.clust.hc     (4;`e2dist;`single`complete`average`centroid`ward) 2 1\n",
      "kmeans| `.ml.clust.kmeans (4;50;01b;`e2dist)                                 ,3 \n"
     ]
    }
   ],
   "source": [
    "/input dictionary\n",
    "show id:`cure`dbscan`hc`kmeans!(` sv'`.ml.clust,'`cure`dbscan`hc`kmeans),'\n",
    "        (enlist each((4;`e2dist;30;0;01b;0b);(`e2dist;2;1.2);(4;`e2dist;key .ml.clust.i.ld);(4;50;01b;`e2dist))),'\n",
    "         enlist each(1 4;(),0;2 1;(),3)"
   ]
  },
  {
   "cell_type": "code",
   "execution_count": 5,
   "metadata": {},
   "outputs": [],
   "source": [
    "/performance - returns time and space for a function\n",
    "/* d = data\n",
    "/* a = algo\n",
    "perform:{[d;a]\n",
    " r:p[id[a;0];d]each i:(cross/)id[a;1];\n",
    " m:{`$string[x],\"_\",\"_\"sv string each y id[x;2]}[a]each i;\n",
    " flip(`method,`$(\"time_\";\"space_\"),\\:string count d)!enlist[m],flip r}\n",
    "p:{.Q.ts[get[x]y;z]}"
   ]
  },
  {
   "cell_type": "code",
   "execution_count": 6,
   "metadata": {},
   "outputs": [],
   "source": [
    "/run for each sample and algo\n",
    "t1:raze perform[d1h]each key id\n",
    "t2:raze perform[d1k]each key id\n",
    "t3:raze perform[d10k]each key id"
   ]
  },
  {
   "cell_type": "code",
   "execution_count": 7,
   "metadata": {},
   "outputs": [
    {
     "data": {
      "text/plain": [
       "method             time_100 space_100 time_1000 space_1000 time_10000 space_10000\n",
       "---------------------------------------------------------------------------------\n",
       "cure_e2dist_0      126      39584     3157      314384     113500     3752688    \n",
       "cure_e2dist_1      3        37136     47        273920     1175       3255600    \n",
       "dbscan_e2dist      0        17472     29        3715568    11012      1650730448 \n",
       "hc_single_e2dist   88       49952     1317      290768     154209     3359632    \n",
       "hc_complete_e2dist 19       172896    2664      14657808   608799     1461862464 \n",
       "hc_average_e2dist  18       142688    2686      17003104   661973     1650830864 \n",
       "hc_centroid_e2dist 21       47040     244       298176     9523       3506464    \n",
       "hc_ward_e2dist     11       27600     1050      207408     105384     2989536    \n",
       "kmeans_e2dist      2        22016     27        194560     280        2329600    \n",
       "kmeans_e2dist      2        22016     27        194560     286        2329600    \n"
      ]
     },
     "execution_count": 7,
     "metadata": {},
     "output_type": "execute_result"
    }
   ],
   "source": [
    "/join results\n",
    "(^/)(t1;t2;t3)"
   ]
  },
  {
   "cell_type": "markdown",
   "metadata": {},
   "source": [
    "---"
   ]
  }
 ],
 "metadata": {
  "kernelspec": {
   "display_name": "Q (kdb+)",
   "language": "q",
   "name": "qpk"
  },
  "language_info": {
   "file_extension": ".q",
   "mimetype": "text/x-q",
   "name": "q",
   "version": "3.6.0"
  }
 },
 "nbformat": 4,
 "nbformat_minor": 2
}
