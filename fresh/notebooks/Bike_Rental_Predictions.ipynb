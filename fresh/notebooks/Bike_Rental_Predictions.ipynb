{
 "cells": [
  {
   "cell_type": "markdown",
   "metadata": {},
   "source": [
    "## Bike-rental volume prediction"
   ]
  },
  {
   "cell_type": "markdown",
   "metadata": {},
   "source": [
    "The purpose of this notebook is to provide an illustration of how the freshq algorithm can be implemented to aid in the forecasting the value of a target variable without the implementation of data rolling and for data which contains inconsistent evenly spaced data points."
   ]
  },
  {
   "cell_type": "markdown",
   "metadata": {},
   "source": [
    "## Loading library scripts and data"
   ]
  },
  {
   "cell_type": "markdown",
   "metadata": {},
   "source": [
    "In the following cell the functions related to the FRESH library are loaded in the 1st line while preprocessing functions used within the notebook are loaded from the folder mlutils"
   ]
  },
  {
   "cell_type": "code",
   "execution_count": 32,
   "metadata": {},
   "outputs": [
    {
     "name": "stdout",
     "output_type": "stream",
     "text": [
      "~\n"
     ]
    }
   ],
   "source": [
    "\\l ../../ml.q\n",
    ".ml.loadfile`:init.q\n",
    "\\l graphics.q\n",
    "\\c 15 100"
   ]
  },
  {
   "cell_type": "markdown",
   "metadata": {},
   "source": [
    "Load in data pertaining to a bike sharing scheme in Washington DC between 2011-2012 (This data was obtained from kaggle at: https://www.kaggle.com/marklvl/bike-sharing-dataset).\n",
    "\n",
    "Our goal is to use the hourly data from the current day to predict if the last hour of the next day will be busier or quieter than the last hour of today.\n",
    "\n",
    "This use case while slightly contrived and chosen to show the operation of this this algorithm, it could potentially useful in allowing an employer to anticipate if extra staff are required for the next business day, which could save on costs."
   ]
  },
  {
   "cell_type": "code",
   "execution_count": 33,
   "metadata": {},
   "outputs": [
    {
     "name": "stdout",
     "output_type": "stream",
     "text": [
      "instant dteday     season yr mnth hr holiday weekday workingday weathersit temp atemp  hum  winds..\n",
      "-------------------------------------------------------------------------------------------------..\n",
      "1       2011.01.01 1      0  1    0  0       6       0          1          0.24 0.2879 0.81 0    ..\n",
      "2       2011.01.01 1      0  1    1  0       6       0          1          0.22 0.2727 0.8  0    ..\n",
      "3       2011.01.01 1      0  1    2  0       6       0          1          0.22 0.2727 0.8  0    ..\n",
      "4       2011.01.01 1      0  1    3  0       6       0          1          0.24 0.2879 0.75 0    ..\n",
      "5       2011.01.01 1      0  1    4  0       6       0          1          0.24 0.2879 0.75 0    ..\n",
      "6       2011.01.01 1      0  1    5  0       6       0          2          0.24 0.2576 0.75 0.089..\n",
      "7       2011.01.01 1      0  1    6  0       6       0          1          0.22 0.2727 0.8  0    ..\n",
      "8       2011.01.01 1      0  1    7  0       6       0          1          0.2  0.2576 0.86 0    ..\n",
      "9       2011.01.01 1      0  1    8  0       6       0          1          0.24 0.2879 0.75 0    ..\n",
      "10      2011.01.01 1      0  1    9  0       6       0          1          0.32 0.3485 0.76 0    ..\n",
      "..\n"
     ]
    }
   ],
   "source": [
    "tabinit:(\"IDIIIIIIIIFFFFIII\";enlist \",\") 0:`:SampleDatasets/bike_rental.csv\n",
    "\n",
    "/drop columns which contain zero variance as these would not be useful for use in a machine learning algorithm.\n",
    "show tabinit:flip (where 0=var each flip tabinit) _ flip tabinit"
   ]
  },
  {
   "cell_type": "markdown",
   "metadata": {},
   "source": [
    "---"
   ]
  },
  {
   "cell_type": "markdown",
   "metadata": {},
   "source": [
    "## Set the target values for forecasting"
   ]
  },
  {
   "cell_type": "markdown",
   "metadata": {},
   "source": [
    "Next we set the target which will be estimated from the dataset. In this case we are attempting to predict if the number of bike rentals in the last hour of business will be higher or lower tomorrow than it was today."
   ]
  },
  {
   "cell_type": "code",
   "execution_count": 34,
   "metadata": {},
   "outputs": [],
   "source": [
    "lasthour:value exec last cnt by dteday from tabinit\n",
    "targets:lasthour>prev lasthour"
   ]
  },
  {
   "cell_type": "markdown",
   "metadata": {},
   "source": [
    "## Naive solution"
   ]
  },
  {
   "cell_type": "markdown",
   "metadata": {},
   "source": [
    "Under the naive solution i.e choosing that the number of rentals price will only ever increase we would be correct ~56% of the time, as such if our procedure and algorithm have provided us with new insights into the data our predictions will be >56% on a consistent basis. "
   ]
  },
  {
   "cell_type": "code",
   "execution_count": 35,
   "metadata": {},
   "outputs": [
    {
     "data": {
      "text/plain": [
       "target| num pcnt    \n",
       "------| ------------\n",
       "0     | 319 43.63885\n",
       "1     | 412 56.36115\n"
      ]
     },
     "execution_count": 35,
     "metadata": {},
     "output_type": "execute_result"
    }
   ],
   "source": [
    "update pcnt:100*num%sum num from select num:count i by target from ([]target:targets)"
   ]
  },
  {
   "cell_type": "code",
   "execution_count": 37,
   "metadata": {},
   "outputs": [
    {
     "name": "stdout",
     "output_type": "stream",
     "text": [
      "f             | pnum pnames pvals valid\n",
      "--------------| -----------------------\n",
      "absenergy     | 0                 1    \n",
      "abssumchange  | 0                 1    \n",
      "count         | 0                 1    \n",
      "countabovemean| 0                 1    \n",
      "countbelowmean| 0                 1    \n",
      "firstmax      | 0                 1    \n",
      "firstmin      | 0                 1    \n",
      "hasdup        | 0                 1    \n",
      "hasdupmax     | 0                 1    \n",
      "hasdupmin     | 0                 1    \n",
      "..\n"
     ]
    }
   ],
   "source": [
    "show dict:.ml.fresh.params\n",
    "\n",
    "dict:update valid:0b from dict where f in `c3`numpeaks`quantile`fftcoeff`spktwelch`ratiobeyondsigma`augfuller"
   ]
  },
  {
   "cell_type": "markdown",
   "metadata": {},
   "source": [
    "## Assign extracted features and complete extraction"
   ]
  },
  {
   "cell_type": "code",
   "execution_count": 38,
   "metadata": {
    "scrolled": true
   },
   "outputs": [
    {
     "data": {
      "text/plain": [
       "18752\n"
      ]
     },
     "execution_count": 38,
     "metadata": {},
     "output_type": "execute_result"
    },
    {
     "name": "stdout",
     "output_type": "stream",
     "text": [
      "dteday    | season_absenergy season_abssumchange season_count season_countabovemean season_countb..\n",
      "----------| -------------------------------------------------------------------------------------..\n",
      "2011.01.01| 24               0                   24           0                     0            ..\n",
      "2011.01.02| 23               0                   23           0                     0            ..\n",
      "2011.01.03| 22               0                   22           0                     0            ..\n",
      "2011.01.04| 23               0                   23           0                     0            ..\n",
      "2011.01.05| 23               0                   23           0                     0            ..\n",
      "2011.01.06| 23               0                   23           0                     0            ..\n",
      "2011.01.07| 23               0                   23           0                     0            ..\n",
      "2011.01.08| 24               0                   24           0                     0            ..\n",
      "2011.01.09| 24               0                   24           0                     0            ..\n",
      "2011.01.10| 24               0                   24           0                     0            ..\n",
      "..\n",
      "The number of rows in the data is: 731\n",
      "The number of targets which are to be predicted is: 731\n"
     ]
    }
   ],
   "source": [
    "/ in this example we look only at features of the data alone with no parameters\n",
    "\n",
    "\\t tabraw:.ml.fresh.createfeatures[tabinit;`dteday;2_ cols tabinit;dict]\n",
    "show tabraw\n",
    "-1\"The number of rows in the data is: \",string count tabraw;\n",
    "-1\"The number of targets which are to be predicted is: \",string count lasthour;"
   ]
  },
  {
   "cell_type": "markdown",
   "metadata": {},
   "source": [
    "## Complete feature significance tests"
   ]
  },
  {
   "cell_type": "markdown",
   "metadata": {},
   "source": [
    "Upon completion of the feature extraction algorithm the importance of each of the features can be determined through the statistical tests contained in the .fresh.significantfeatures function. This will reduce the number of features used by the machine learning algorithm in making its prediction."
   ]
  },
  {
   "cell_type": "code",
   "execution_count": 39,
   "metadata": {},
   "outputs": [
    {
     "name": "stdout",
     "output_type": "stream",
     "text": [
      "dteday    | yr_symmetriclooking_rangepercent_0o45 yr_symmetriclooking_rangepercent_0o8 yr_symmetr..\n",
      "----------| -------------------------------------------------------------------------------------..\n",
      "2011.01.01| 0                                     0                                    0         ..\n",
      "2011.01.02| 0                                     0                                    0         ..\n",
      "2011.01.03| 0                                     0                                    0         ..\n",
      "2011.01.04| 0                                     0                                    0         ..\n",
      "2011.01.05| 0                                     0                                    0         ..\n",
      "2011.01.06| 0                                     0                                    0         ..\n",
      "2011.01.07| 0                                     0                                    0         ..\n",
      "2011.01.08| 0                                     0                                    0         ..\n",
      "2011.01.09| 0                                     0                                    0         ..\n",
      "2011.01.10| 0                                     0                                    0         ..\n",
      "..\n",
      "The number of columns in the initial dataset is: 17\n",
      "The number of columns in the unfiltered dataset is: 3361\n",
      "The number of columns in the filtered dataset is: 110\n"
     ]
    }
   ],
   "source": [
    "show tabreduced:key[tabraw]!(.ml.fresh.percentilesigfeat[t;targets;.05])#t:value tabraw\n",
    "-1 \"The number of columns in the initial dataset is: \",string count cols tabinit;\n",
    "-1 \"The number of columns in the unfiltered dataset is: \",string count cols tabraw;\n",
    "-1 \"The number of columns in the filtered dataset is: \",string count cols tabreduced;"
   ]
  },
  {
   "cell_type": "markdown",
   "metadata": {},
   "source": [
    "### Data formatting"
   ]
  },
  {
   "cell_type": "markdown",
   "metadata": {},
   "source": [
    "The data must now be converted to a matrix from a table in order to allow it to be passed to a machine learning algorithm for training."
   ]
  },
  {
   "cell_type": "code",
   "execution_count": 40,
   "metadata": {},
   "outputs": [],
   "source": [
    "mattab:{flip value flip x}\n",
    "fitvalsfilter:0^mattab[value tabreduced]"
   ]
  },
  {
   "cell_type": "markdown",
   "metadata": {},
   "source": [
    "---"
   ]
  },
  {
   "cell_type": "markdown",
   "metadata": {},
   "source": [
    "## Training the model"
   ]
  },
  {
   "cell_type": "markdown",
   "metadata": {},
   "source": [
    "Below we initialize the model with a random forest classifier with 200 estimators, this allows for an estimate of the quality of the data to be made following the completion of feature extraction. The addition of ``` `verbose pykw 1 ``` to the definition of the Random Forest Classifier allows for the time required for the training of the classifier to be displayed if desired."
   ]
  },
  {
   "cell_type": "code",
   "execution_count": 41,
   "metadata": {},
   "outputs": [],
   "source": [
    "clf:.p.import[`sklearn.ensemble][`:RandomForestClassifier][`n_estimators pykw 200;`random_state pykw 1]"
   ]
  },
  {
   "cell_type": "markdown",
   "metadata": {},
   "source": [
    "### Fit data to the models and make predictions"
   ]
  },
  {
   "cell_type": "code",
   "execution_count": 42,
   "metadata": {},
   "outputs": [],
   "source": [
    "fitvalsfilter:.ml.infreplace[fitvalsfilter]\n",
    "dict1:.ml.traintestsplit[fitvalsfilter;targets;0.2];\n",
    "clf[`:fit][dict1[`xtrain];dict1[`ytrain]]`;\n",
    "pred1:clf[`:predict][dict1[`xtest]]`"
   ]
  },
  {
   "cell_type": "markdown",
   "metadata": {},
   "source": [
    "## Results"
   ]
  },
  {
   "cell_type": "markdown",
   "metadata": {},
   "source": [
    "Given that predictions of the classifications given to the whether or not the last hour of work tomorrow will be busier than today are being made ."
   ]
  },
  {
   "cell_type": "code",
   "execution_count": 43,
   "metadata": {},
   "outputs": [
    {
     "data": {
      "text/plain": [
       "class    | precision recall   f1_score  support\n",
       "---------| ------------------------------------\n",
       "0        | 0.5967742 0.787234 0.6788991 47     \n",
       "1        | 0.8823529 0.75     0.8108108 100    \n",
       "avg/total| 0.7395636 0.768617 0.7448549 147    \n"
      ]
     },
     "execution_count": 43,
     "metadata": {},
     "output_type": "execute_result"
    },
    {
     "name": "stdout",
     "output_type": "stream",
     "text": [
      "The number of misclassifications in the filtered dataset is: 35\n",
      "The accuracy in the filtered dataset is: 0.7619048\n",
      "_______________________________________________________________\n"
     ]
    }
   ],
   "source": [
    ".ml.classreport[dict1[`ytest];pred1]\n",
    "-1\"The number of misclassifications in the filtered dataset is: \",string sum dict1[`ytest]<>pred1;\n",
    "-1\"The accuracy in the filtered dataset is: \",string .ml.accuracy[dict1[`ytest];pred1];\n",
    "-1\"_______________________________________________________________\";"
   ]
  },
  {
   "cell_type": "code",
   "execution_count": 45,
   "metadata": {},
   "outputs": [
    {
     "data": {
      "text/plain": [
       "tn| 37\n",
       "fp| 10\n",
       "fn| 25\n",
       "tp| 75\n"
      ]
     },
     "execution_count": 45,
     "metadata": {},
     "output_type": "execute_result"
    },
    {
     "data": {
      "image/png": "[encoded data removed]",
      "text/plain": [
       "<Figure size 720x720 with 1 Axes>"
      ]
     },
     "metadata": {},
     "output_type": "display_data"
    }
   ],
   "source": [
    "cnfM:.ml.cfm[dict1[`ytest];pred1]\n",
    ".ml.confdict[dict1[`ytest];pred1;1b]\n",
    ".ml.displayCM[value cnfM;`Low`High;\"Test Set Confusion Matrix\";()]"
   ]
  },
  {
   "cell_type": "markdown",
   "metadata": {},
   "source": [
    "## Conclusions"
   ]
  },
  {
   "cell_type": "markdown",
   "metadata": {},
   "source": [
    "In conclusion as can be seen from the above results the use of a random forest classifier was useful in allowing for the classification of next day last hour business vs previous day, to be more consistent than simply choosing one case to always be true.\n",
    "\n",
    "It should also be noted that the quality of results garnered from the running of the classifications depends on the location that the data is split. This is an inherent problem in predicting on human behaviour influenced systems as it is difficult to predict on outlying cases which have a non repeating signature."
   ]
  },
  {
   "cell_type": "markdown",
   "metadata": {},
   "source": [
    "---"
   ]
  }
 ],
 "metadata": {
  "kernelspec": {
   "display_name": "Q (kdb+)",
   "language": "q",
   "name": "qpk"
  },
  "language_info": {
   "file_extension": ".q",
   "mimetype": "text/x-q",
   "name": "q",
   "version": "3.6.0"
  }
 },
 "nbformat": 4,
 "nbformat_minor": 2
}
