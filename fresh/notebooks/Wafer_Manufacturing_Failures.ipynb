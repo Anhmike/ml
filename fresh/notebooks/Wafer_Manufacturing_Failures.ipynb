{
 "cells": [
  {
   "cell_type": "markdown",
   "metadata": {},
   "source": [
    "# Abnormal wafer detection in semi-conductor production"
   ]
  },
  {
   "cell_type": "markdown",
   "metadata": {},
   "source": [
    "The purpose of this notebook is to show the use of the FRESH library in a setting which is unlikely to be influenced by the behaviour of a large number of outside human influences as is the case in the bike rental and stock market examples.\n",
    "\n",
    "In the case presented here the goal is to detect given a time series of features for each wafer if the wafer is likely to be abnormal/normal and thus if it should be removed from the manufacturing pipeline such that it does not need to be removed at a later date following integration into a system.\n",
    "\n",
    "The data used here has been loaded and processed post download into its current form from https://www.cs.cmu.edu/~bobski/data/data.html . This is open source data used here as an indication of the use of this algorithm in a manufacturing setting"
   ]
  },
  {
   "cell_type": "markdown",
   "metadata": {},
   "source": [
    "## Load libraries and data"
   ]
  },
  {
   "cell_type": "markdown",
   "metadata": {},
   "source": [
    "The following cell will load in all the functions required for the running of this notebook. This includes all both the utility functions which are used in data processing/statistical testing of the results and the FRESH algorithm which allows for the completion of the feature extraction and significance testing."
   ]
  },
  {
   "cell_type": "code",
   "execution_count": 57,
   "metadata": {
    "scrolled": true
   },
   "outputs": [
    {
     "name": "stdout",
     "output_type": "stream",
     "text": [
      "~\n"
     ]
    }
   ],
   "source": [
    "\\l ../../ml.q\n",
    ".ml.loadfile`:init.q\n",
    "\\l graphics.q"
   ]
  },
  {
   "cell_type": "code",
   "execution_count": 2,
   "metadata": {},
   "outputs": [],
   "source": [
    "\\l ../fresh.q\n",
    "\\l ../paramdict.q"
   ]
  },
  {
   "cell_type": "code",
   "execution_count": 2,
   "metadata": {},
   "outputs": [],
   "source": [
    "data: (\"SIIIIIII\"; enlist \",\") 0:`:SampleDatasets/waferdata.csv\n",
    "targets:(\"SI\";enlist \",\") 0:`:SampleDatasets/wafertargets.csv"
   ]
  },
  {
   "cell_type": "markdown",
   "metadata": {},
   "source": [
    "Given that this data does not contain null values and is spaced with equi-time there is no requirement for the time column to be present within the data and as such this can be removed from the data"
   ]
  },
  {
   "cell_type": "code",
   "execution_count": 35,
   "metadata": {},
   "outputs": [
    {
     "name": "stdout",
     "output_type": "stream",
     "text": [
      "id      feat11 feat12 feat15 feat6 feat7 feat8\n",
      "----------------------------------------------\n",
      "1549_01 2      -11    -1     3     24    10   \n",
      "1549_01 2      -11    -1     3     25    10   \n",
      "1549_01 2      -11    0      3     24    10   \n",
      "1549_01 2      -11    -1     3     25    10   \n",
      "1549_01 2      -11    0      3     25    477  \n",
      "1549_01 2      -11    0      3     24    499  \n",
      "1549_01 2      -11    0      3     25    1542 \n",
      "1549_01 2      -11    0      3     24    1869 \n",
      "1549_01 2      -11    0      3     24    2234 \n",
      "1549_01 2      -11    0      3     25    2259 \n"
     ]
    },
    {
     "data": {
      "text/plain": [
       "id      feat11 feat12 feat15 feat6 feat7 feat8\n",
       "----------------------------------------------\n",
       "1549_01 2      -11    -1     3     24    10   \n",
       "1549_01 2      -11    -1     3     25    10   \n",
       "1549_01 2      -11    0      3     24    10   \n",
       "1549_01 2      -11    -1     3     25    10   \n",
       "1549_01 2      -11    0      3     25    477  \n",
       "1549_01 2      -11    0      3     24    499  \n",
       "1549_01 2      -11    0      3     25    1542 \n",
       "1549_01 2      -11    0      3     24    1869 \n",
       "1549_01 2      -11    0      3     24    2234 \n",
       "1549_01 2      -11    0      3     25    2259 \n"
      ]
     },
     "execution_count": 35,
     "metadata": {},
     "output_type": "execute_result"
    }
   ],
   "source": [
    "show 10#data\n",
    "10#data:delete time from data"
   ]
  },
  {
   "cell_type": "markdown",
   "metadata": {},
   "source": [
    "The following shows the distribution of the targets within the initial dataset, which gives an indiction of the skew of the dataset. As can be seen appoximately 11% of the initial data contained wafers considered to be abnormal. A determination which would likely have been picked up later in the manufacturing pipeline and thus potentially being costly to the manufacturer."
   ]
  },
  {
   "cell_type": "code",
   "execution_count": 4,
   "metadata": {},
   "outputs": [
    {
     "data": {
      "text/plain": [
       "target| num  pcnt    \n",
       "------| -------------\n",
       "0     | 127  10.63652\n",
       "1     | 1067 89.36348\n"
      ]
     },
     "execution_count": 4,
     "metadata": {},
     "output_type": "execute_result"
    }
   ],
   "source": [
    "target:targets`target\n",
    "update pcnt:100*num%sum num from select num:count i by target from ([]target:target)"
   ]
  },
  {
   "cell_type": "markdown",
   "metadata": {},
   "source": [
    "## Feature Extraction and selection"
   ]
  },
  {
   "cell_type": "code",
   "execution_count": 5,
   "metadata": {},
   "outputs": [
    {
     "data": {
      "text/plain": [
       "binnedentropy    | (,`lag)!,2 5 10\n",
       "cidce            | (,`boolean)!,01b\n",
       "numcrossingm     | (,`crossing)!,-1 0 1\n",
       "ratiobeyondrsigma| (,`sigma)!,0.5 1 1.5 2 2 2.5 3 5 6 6 19\n",
       "largestdev       | (,`percent)!,0.05 0.1 0.15 0.2 0.25 0.3 0.35 0.4 0.45 0.5 ..\n"
      ]
     },
     "execution_count": 5,
     "metadata": {},
     "output_type": "execute_result"
    }
   ],
   "source": [
    "/ In this example we are only concerned with producing features which require as input the time series data \n",
    "5#dict:.ml.i.dict\n",
    "\n"
   ]
  },
  {
   "cell_type": "code",
   "execution_count": 6,
   "metadata": {},
   "outputs": [
    {
     "data": {
      "text/plain": [
       "id     | absenergy_feat11 absenergy_feat12 absenergy_feat15 absenergy_feat6 a..\n",
       "-------| --------------------------------------------------------------------..\n",
       "1549_01| 1.666914e+08     8.405464e+07     971495           3.025968e+07    1..\n",
       "1549_02| 1.680301e+08     8.206528e+07     937086           3.081874e+07    1..\n",
       "1549_04| 1.548667e+08     7.124947e+07     580387           3.04597e+07     9..\n",
       "1549_06| 1.609981e+08     8.847354e+07     981203           3.041265e+07    1..\n",
       "1549_07| 1.671974e+08     7.242925e+07     828451           3.082033e+07    1..\n"
      ]
     },
     "execution_count": 6,
     "metadata": {},
     "output_type": "execute_result"
    }
   ],
   "source": [
    "/ Produce features based on the unique id's of the data set without using the id column as for feature extraction\n",
    "5#createdfeatures:.ml.fresh.createfeatures[data;`id;1_cols data;dict]"
   ]
  },
  {
   "cell_type": "code",
   "execution_count": 64,
   "metadata": {},
   "outputs": [
    {
     "data": {
      "text/plain": [
       "id     | binnedentropy_10_feat11 binnedentropy_5_feat11 ratiobeyondrsigma_0.5..\n",
       "-------| --------------------------------------------------------------------..\n",
       "1549_01| 0.9766542               0.9112366              0.379562             ..\n",
       "1549_02| 0.9373918               0.8993726              0.4055944            ..\n",
       "1549_04| 0.9640302               0.8928188              0.4097222            ..\n",
       "1549_06| 0.9653513               0.9278565              0.4137931            ..\n",
       "1549_07| 0.9373918               0.8993726              0.4055944            ..\n"
      ]
     },
     "execution_count": 64,
     "metadata": {},
     "output_type": "execute_result"
    }
   ],
   "source": [
    "/ Complete feature significance tests on the dataset to only use features deemed to be important to target prediction\n",
    "5#sigfeattab:key[createdfeatures]!(.ml.fresh.ksigfeat[t;targets[`target];150])#t:value createdfeatures"
   ]
  },
  {
   "cell_type": "markdown",
   "metadata": {},
   "source": [
    "The following shows that the number of features deemed to be important to the prediction of abnormalities in the manufacturing of the semiconductor wafers is less than the total number of features produced through the `.ml.fresh.createfeatures` procedure. The reduced number of features feature extraction should include those that maximize variance in predicting the target but will improve training and testing times"
   ]
  },
  {
   "cell_type": "code",
   "execution_count": 65,
   "metadata": {},
   "outputs": [
    {
     "name": "stdout",
     "output_type": "stream",
     "text": [
      "The number of extracted features from the dataset is: 768\n",
      "The number of features deemed significant to prediction is: 150\n"
     ]
    }
   ],
   "source": [
    "-1\"The number of extracted features from the dataset is: \",string count cols value createdfeatures;\n",
    "-1\"The number of features deemed significant to prediction is: \",string count cols value sigfeattab;"
   ]
  },
  {
   "cell_type": "markdown",
   "metadata": {},
   "source": [
    "### Preparing the data for Machine Learning"
   ]
  },
  {
   "cell_type": "code",
   "execution_count": 66,
   "metadata": {},
   "outputs": [],
   "source": [
    "mattab:{flip value flip x}\n",
    "/ Convert the table containing significant features to a matrix in order to allow it to be passed to a machine learning algorithm\n",
    "featmat:mattab[value sigfeattab]\n",
    "\n",
    "/ Set a benchmark to be compared against, in this case we use the average value for each feature on each id\n",
    "benchmark:select avg feat11,avg feat12,avg feat15,avg feat6,avg feat7,avg feat8 by id from data\n",
    "benchmarktest:mattab[value benchmark]"
   ]
  },
  {
   "cell_type": "markdown",
   "metadata": {},
   "source": [
    "## Initiate machine learning algorithm"
   ]
  },
  {
   "cell_type": "code",
   "execution_count": 67,
   "metadata": {},
   "outputs": [],
   "source": [
    "k:rand 1000\n",
    "clf:.p.import[`sklearn.ensemble][`:RandomForestClassifier][`n_estimators pykw 500;`random_state pykw k;`verbose pykw 1]\n"
   ]
  },
  {
   "cell_type": "markdown",
   "metadata": {},
   "source": [
    "## Train the model"
   ]
  },
  {
   "cell_type": "markdown",
   "metadata": {},
   "source": [
    "Here we train the machine learning model for the same split of the data and the same random forest classifier to test that the application of the feature extraction and feature significance tests have been informative to the prediction of the final state of the wafer post production. These can also be compared to the naive case where the assumption is that all wafers being produced are deemed to be normal."
   ]
  },
  {
   "cell_type": "code",
   "execution_count": 70,
   "metadata": {},
   "outputs": [
    {
     "name": "stderr",
     "output_type": "stream",
     "text": [
      "[Parallel(n_jobs=1)]: Using backend SequentialBackend with 1 concurrent workers.\n",
      "[Parallel(n_jobs=1)]: Done 500 out of 500 | elapsed:    1.1s finished\n",
      "[Parallel(n_jobs=1)]: Using backend SequentialBackend with 1 concurrent workers.\n",
      "[Parallel(n_jobs=1)]: Done 500 out of 500 | elapsed:    0.0s finished\n"
     ]
    },
    {
     "data": {
      "text/plain": [
       "class     precision recall f1_score support\n",
       "-------------------------------------------\n",
       "0         0.96      1      0.98     25     \n",
       "1         1         1      1        214    \n",
       "avg/total 0.98      1      0.99     239    \n"
      ]
     },
     "execution_count": 70,
     "metadata": {},
     "output_type": "execute_result"
    },
    {
     "name": "stdout",
     "output_type": "stream",
     "text": [
      "The number of misclassifications in the filtered dataset is: 1\n",
      "The accuracy of the filtered dataset is: 0.9958159\n",
      "_______________________________________________________________\n"
     ]
    },
    {
     "name": "stderr",
     "output_type": "stream",
     "text": [
      "[Parallel(n_jobs=1)]: Using backend SequentialBackend with 1 concurrent workers.\n",
      "[Parallel(n_jobs=1)]: Done 500 out of 500 | elapsed:    0.4s finished\n",
      "[Parallel(n_jobs=1)]: Using backend SequentialBackend with 1 concurrent workers.\n",
      "[Parallel(n_jobs=1)]: Done 500 out of 500 | elapsed:    0.0s finished\n"
     ]
    },
    {
     "name": "stdout",
     "output_type": "stream",
     "text": [
      "The number of misclassifications in the benchmark dataset is: 5\n",
      "The accuracy of the benchmark dataset is: 0.9790795\n",
      "_______________________________________________________________\n"
     ]
    },
    {
     "data": {
      "text/plain": [
       "class     precision recall f1_score support\n",
       "-------------------------------------------\n",
       "0         0.88      0.92   0.9      25     \n",
       "1         0.99      0.99   0.99     214    \n",
       "avg/total 0.935     0.955  0.945    239    \n"
      ]
     },
     "execution_count": 70,
     "metadata": {},
     "output_type": "execute_result"
    }
   ],
   "source": [
    "seed:\"i\"$.z.t\n",
    "\n",
    "dict1:.ml.util.traintestsplitseed[featmat;targets[`target];0.2;seed];\n",
    "\n",
    "clf[`:fit][dict1[`xtrain];dict1[`ytrain]]`;\n",
    "pred1:clf[`:predict][dict1[`xtest]]`\n",
    "\n",
    ".ml.util.classreport[dict1[`ytest];pred1]\n",
    "-1\"The number of misclassifications in the filtered dataset is: \",string sum dict1[`ytest]<>pred1;\n",
    "-1\"The accuracy of the filtered dataset is: \",string .ml.accuracy[dict1[`ytest];pred1];\n",
    "-1\"_______________________________________________________________\";\n",
    "\n",
    "dict2:.ml.util.traintestsplitseed[benchmarktest;targets[`target];0.2;seed];\n",
    "\n",
    "clf[`:fit][dict2[`xtrain];dict2[`ytrain]]`;\n",
    "pred2:clf[`:predict][dict2[`xtest]]`\n",
    "\n",
    ".ml.util.classreport[dict2[`ytest];pred2]\n",
    "-1\"The number of misclassifications in the benchmark dataset is: \",string sum dict2[`ytest]<>pred2;\n",
    "-1\"The accuracy of the benchmark dataset is: \",string .ml.accuracy[dict2[`ytest];pred2];\n",
    "-1\"_______________________________________________________________\";\n"
   ]
  },
  {
   "cell_type": "code",
   "execution_count": 13,
   "metadata": {},
   "outputs": [
    {
     "data": {
      "image/png": "[encoded data removed]",
      "text/plain": [
       "<Figure size 720x720 with 1 Axes>"
      ]
     },
     "metadata": {},
     "output_type": "display_data"
    }
   ],
   "source": [
    "show cnfM:.ml.cfm[dict1[`ytest];pred1]\n",
    ".ml.displayCM[value cnfM;`Abnormal`Normal;\"Test Set Confusion Matrix\";()]"
   ]
  },
  {
   "cell_type": "markdown",
   "metadata": {},
   "source": [
    "### Conclusions"
   ]
  },
  {
   "cell_type": "markdown",
   "metadata": {},
   "source": [
    "In conclusion it can be seen from multiple runs of the random forest classifiers for different seedings and different splits of the dataset that the use of the feature extraction and significance procedures implemented in this library have improved the ability to predict the normality or otherwise of the wafers produced during the manufacturing process.\n",
    "\n",
    "The accuracy in the case of using the FRESH library produces consistently more accurate results than the benchmark set as the average value being used for the prediction and significantly better results than the naive case where we would assume that all wafers produced are fit for use further down pipeline.\n",
    "\n",
    "This gives an insight into the potential for the use of this form of analysis in the manufacturing sector particularly given the large volumes of data consistently recorded in modern manufacturing processes.\n",
    "\n",
    "It also offers the potential for reductions in redundant labour and manufacturing procedures thus reducing the overall cost of the manufacturing pipeline"
   ]
  },
  {
   "cell_type": "markdown",
   "metadata": {},
   "source": [
    "---"
   ]
  }
 ],
 "metadata": {
  "kernelspec": {
   "display_name": "Q (kdb+)",
   "language": "q",
   "name": "qpk"
  },
  "language_info": {
   "file_extension": ".q",
   "mimetype": "text/x-q",
   "name": "q",
   "version": "3.6.0"
  }
 },
 "nbformat": 4,
 "nbformat_minor": 2
}
